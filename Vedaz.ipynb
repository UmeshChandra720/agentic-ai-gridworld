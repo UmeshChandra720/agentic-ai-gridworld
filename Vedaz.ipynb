{
  "nbformat": 4,
  "nbformat_minor": 0,
  "metadata": {
    "colab": {
      "provenance": []
    },
    "kernelspec": {
      "name": "python3",
      "display_name": "Python 3"
    },
    "language_info": {
      "name": "python"
    }
  },
  "cells": [
    {
      "cell_type": "markdown",
      "source": [
        "###**OBJECTIVE:**\n",
        "- Design and develop a basic agentic AI System that can:\n",
        "  - Perform Decision-making tasks based on input\n",
        "  - Simulate autonomy by:\n",
        "    - Taking actions according to predefined goals.\n",
        "    - Responding to dnamic Environments(Changing Conditions)"
      ],
      "metadata": {
        "id": "fSeyVrOp7x9w"
      }
    },
    {
      "cell_type": "markdown",
      "source": [
        "###**PROBLEM STATEMENT:**\n",
        "- Create a simple agentic AI that can learn from its environment and make decisions.\n",
        "- The AI should be able to:\n",
        "  - Receive input data (such as actions or conditions).\n",
        "  - Learn from the inputs using basic reinforcement learning (RL) techniques.\n",
        "  - Make decisions based on the learning to achieve defined goals."
      ],
      "metadata": {
        "id": "iTz1CBIK8P-p"
      }
    },
    {
      "cell_type": "markdown",
      "source": [
        "###**IMPORTING LIBRRAIES**"
      ],
      "metadata": {
        "id": "akqnn0GP8ofL"
      }
    },
    {
      "cell_type": "code",
      "execution_count": 1,
      "metadata": {
        "id": "GaCsZOyX6z3d"
      },
      "outputs": [],
      "source": [
        "import numpy as np\n",
        "import pandas as pd\n",
        "import random\n",
        "import seaborn as sns\n",
        "import matplotlib.pyplot as plt"
      ]
    },
    {
      "cell_type": "markdown",
      "source": [
        "###**GENERATE ENVIRONMENT DATASET**"
      ],
      "metadata": {
        "id": "pIrsMexs8wUW"
      }
    },
    {
      "cell_type": "code",
      "source": [
        "# Generate Grid Environment\n",
        "grid_size = 5\n",
        "env = np.zeros((grid_size, grid_size))\n",
        "\n",
        "# Randomly place obstacles (-1), goal (10), rest are 0\n",
        "np.random.seed(42)\n",
        "env[random.randint(0, 4)][random.randint(0, 4)] = -1\n",
        "env[random.randint(0, 4)][random.randint(0, 4)] = -1\n",
        "goal_pos = (random.randint(0, 4), random.randint(0, 4))\n",
        "env[goal_pos] = 10\n",
        "\n",
        "df_env = pd.DataFrame(env)\n",
        "df_env.columns = [f'Col_{i}' for i in range(grid_size)]\n",
        "df_env.index = [f'Row_{i}' for i in range(grid_size)]\n",
        "print(\"Grid World Environment:\")\n",
        "df_env"
      ],
      "metadata": {
        "colab": {
          "base_uri": "https://localhost:8080/",
          "height": 223
        },
        "id": "QXAEnCXE8sZL",
        "outputId": "a1edfead-bb3e-4648-b8f1-6dfc180b8772"
      },
      "execution_count": 2,
      "outputs": [
        {
          "output_type": "stream",
          "name": "stdout",
          "text": [
            "Grid World Environment:\n"
          ]
        },
        {
          "output_type": "execute_result",
          "data": {
            "text/plain": [
              "       Col_0  Col_1  Col_2  Col_3  Col_4\n",
              "Row_0    0.0    0.0    0.0    0.0    0.0\n",
              "Row_1    0.0    0.0    0.0    0.0    0.0\n",
              "Row_2    0.0   -1.0    0.0    0.0    0.0\n",
              "Row_3   10.0    0.0    0.0    0.0    0.0\n",
              "Row_4    0.0   -1.0    0.0    0.0    0.0"
            ],
            "text/html": [
              "\n",
              "  <div id=\"df-a0d9df62-cff4-4729-b78e-70ab8cf62f3c\" class=\"colab-df-container\">\n",
              "    <div>\n",
              "<style scoped>\n",
              "    .dataframe tbody tr th:only-of-type {\n",
              "        vertical-align: middle;\n",
              "    }\n",
              "\n",
              "    .dataframe tbody tr th {\n",
              "        vertical-align: top;\n",
              "    }\n",
              "\n",
              "    .dataframe thead th {\n",
              "        text-align: right;\n",
              "    }\n",
              "</style>\n",
              "<table border=\"1\" class=\"dataframe\">\n",
              "  <thead>\n",
              "    <tr style=\"text-align: right;\">\n",
              "      <th></th>\n",
              "      <th>Col_0</th>\n",
              "      <th>Col_1</th>\n",
              "      <th>Col_2</th>\n",
              "      <th>Col_3</th>\n",
              "      <th>Col_4</th>\n",
              "    </tr>\n",
              "  </thead>\n",
              "  <tbody>\n",
              "    <tr>\n",
              "      <th>Row_0</th>\n",
              "      <td>0.0</td>\n",
              "      <td>0.0</td>\n",
              "      <td>0.0</td>\n",
              "      <td>0.0</td>\n",
              "      <td>0.0</td>\n",
              "    </tr>\n",
              "    <tr>\n",
              "      <th>Row_1</th>\n",
              "      <td>0.0</td>\n",
              "      <td>0.0</td>\n",
              "      <td>0.0</td>\n",
              "      <td>0.0</td>\n",
              "      <td>0.0</td>\n",
              "    </tr>\n",
              "    <tr>\n",
              "      <th>Row_2</th>\n",
              "      <td>0.0</td>\n",
              "      <td>-1.0</td>\n",
              "      <td>0.0</td>\n",
              "      <td>0.0</td>\n",
              "      <td>0.0</td>\n",
              "    </tr>\n",
              "    <tr>\n",
              "      <th>Row_3</th>\n",
              "      <td>10.0</td>\n",
              "      <td>0.0</td>\n",
              "      <td>0.0</td>\n",
              "      <td>0.0</td>\n",
              "      <td>0.0</td>\n",
              "    </tr>\n",
              "    <tr>\n",
              "      <th>Row_4</th>\n",
              "      <td>0.0</td>\n",
              "      <td>-1.0</td>\n",
              "      <td>0.0</td>\n",
              "      <td>0.0</td>\n",
              "      <td>0.0</td>\n",
              "    </tr>\n",
              "  </tbody>\n",
              "</table>\n",
              "</div>\n",
              "    <div class=\"colab-df-buttons\">\n",
              "\n",
              "  <div class=\"colab-df-container\">\n",
              "    <button class=\"colab-df-convert\" onclick=\"convertToInteractive('df-a0d9df62-cff4-4729-b78e-70ab8cf62f3c')\"\n",
              "            title=\"Convert this dataframe to an interactive table.\"\n",
              "            style=\"display:none;\">\n",
              "\n",
              "  <svg xmlns=\"http://www.w3.org/2000/svg\" height=\"24px\" viewBox=\"0 -960 960 960\">\n",
              "    <path d=\"M120-120v-720h720v720H120Zm60-500h600v-160H180v160Zm220 220h160v-160H400v160Zm0 220h160v-160H400v160ZM180-400h160v-160H180v160Zm440 0h160v-160H620v160ZM180-180h160v-160H180v160Zm440 0h160v-160H620v160Z\"/>\n",
              "  </svg>\n",
              "    </button>\n",
              "\n",
              "  <style>\n",
              "    .colab-df-container {\n",
              "      display:flex;\n",
              "      gap: 12px;\n",
              "    }\n",
              "\n",
              "    .colab-df-convert {\n",
              "      background-color: #E8F0FE;\n",
              "      border: none;\n",
              "      border-radius: 50%;\n",
              "      cursor: pointer;\n",
              "      display: none;\n",
              "      fill: #1967D2;\n",
              "      height: 32px;\n",
              "      padding: 0 0 0 0;\n",
              "      width: 32px;\n",
              "    }\n",
              "\n",
              "    .colab-df-convert:hover {\n",
              "      background-color: #E2EBFA;\n",
              "      box-shadow: 0px 1px 2px rgba(60, 64, 67, 0.3), 0px 1px 3px 1px rgba(60, 64, 67, 0.15);\n",
              "      fill: #174EA6;\n",
              "    }\n",
              "\n",
              "    .colab-df-buttons div {\n",
              "      margin-bottom: 4px;\n",
              "    }\n",
              "\n",
              "    [theme=dark] .colab-df-convert {\n",
              "      background-color: #3B4455;\n",
              "      fill: #D2E3FC;\n",
              "    }\n",
              "\n",
              "    [theme=dark] .colab-df-convert:hover {\n",
              "      background-color: #434B5C;\n",
              "      box-shadow: 0px 1px 3px 1px rgba(0, 0, 0, 0.15);\n",
              "      filter: drop-shadow(0px 1px 2px rgba(0, 0, 0, 0.3));\n",
              "      fill: #FFFFFF;\n",
              "    }\n",
              "  </style>\n",
              "\n",
              "    <script>\n",
              "      const buttonEl =\n",
              "        document.querySelector('#df-a0d9df62-cff4-4729-b78e-70ab8cf62f3c button.colab-df-convert');\n",
              "      buttonEl.style.display =\n",
              "        google.colab.kernel.accessAllowed ? 'block' : 'none';\n",
              "\n",
              "      async function convertToInteractive(key) {\n",
              "        const element = document.querySelector('#df-a0d9df62-cff4-4729-b78e-70ab8cf62f3c');\n",
              "        const dataTable =\n",
              "          await google.colab.kernel.invokeFunction('convertToInteractive',\n",
              "                                                    [key], {});\n",
              "        if (!dataTable) return;\n",
              "\n",
              "        const docLinkHtml = 'Like what you see? Visit the ' +\n",
              "          '<a target=\"_blank\" href=https://colab.research.google.com/notebooks/data_table.ipynb>data table notebook</a>'\n",
              "          + ' to learn more about interactive tables.';\n",
              "        element.innerHTML = '';\n",
              "        dataTable['output_type'] = 'display_data';\n",
              "        await google.colab.output.renderOutput(dataTable, element);\n",
              "        const docLink = document.createElement('div');\n",
              "        docLink.innerHTML = docLinkHtml;\n",
              "        element.appendChild(docLink);\n",
              "      }\n",
              "    </script>\n",
              "  </div>\n",
              "\n",
              "\n",
              "    <div id=\"df-0140bceb-b1e2-4331-9d55-24427842d450\">\n",
              "      <button class=\"colab-df-quickchart\" onclick=\"quickchart('df-0140bceb-b1e2-4331-9d55-24427842d450')\"\n",
              "                title=\"Suggest charts\"\n",
              "                style=\"display:none;\">\n",
              "\n",
              "<svg xmlns=\"http://www.w3.org/2000/svg\" height=\"24px\"viewBox=\"0 0 24 24\"\n",
              "     width=\"24px\">\n",
              "    <g>\n",
              "        <path d=\"M19 3H5c-1.1 0-2 .9-2 2v14c0 1.1.9 2 2 2h14c1.1 0 2-.9 2-2V5c0-1.1-.9-2-2-2zM9 17H7v-7h2v7zm4 0h-2V7h2v10zm4 0h-2v-4h2v4z\"/>\n",
              "    </g>\n",
              "</svg>\n",
              "      </button>\n",
              "\n",
              "<style>\n",
              "  .colab-df-quickchart {\n",
              "      --bg-color: #E8F0FE;\n",
              "      --fill-color: #1967D2;\n",
              "      --hover-bg-color: #E2EBFA;\n",
              "      --hover-fill-color: #174EA6;\n",
              "      --disabled-fill-color: #AAA;\n",
              "      --disabled-bg-color: #DDD;\n",
              "  }\n",
              "\n",
              "  [theme=dark] .colab-df-quickchart {\n",
              "      --bg-color: #3B4455;\n",
              "      --fill-color: #D2E3FC;\n",
              "      --hover-bg-color: #434B5C;\n",
              "      --hover-fill-color: #FFFFFF;\n",
              "      --disabled-bg-color: #3B4455;\n",
              "      --disabled-fill-color: #666;\n",
              "  }\n",
              "\n",
              "  .colab-df-quickchart {\n",
              "    background-color: var(--bg-color);\n",
              "    border: none;\n",
              "    border-radius: 50%;\n",
              "    cursor: pointer;\n",
              "    display: none;\n",
              "    fill: var(--fill-color);\n",
              "    height: 32px;\n",
              "    padding: 0;\n",
              "    width: 32px;\n",
              "  }\n",
              "\n",
              "  .colab-df-quickchart:hover {\n",
              "    background-color: var(--hover-bg-color);\n",
              "    box-shadow: 0 1px 2px rgba(60, 64, 67, 0.3), 0 1px 3px 1px rgba(60, 64, 67, 0.15);\n",
              "    fill: var(--button-hover-fill-color);\n",
              "  }\n",
              "\n",
              "  .colab-df-quickchart-complete:disabled,\n",
              "  .colab-df-quickchart-complete:disabled:hover {\n",
              "    background-color: var(--disabled-bg-color);\n",
              "    fill: var(--disabled-fill-color);\n",
              "    box-shadow: none;\n",
              "  }\n",
              "\n",
              "  .colab-df-spinner {\n",
              "    border: 2px solid var(--fill-color);\n",
              "    border-color: transparent;\n",
              "    border-bottom-color: var(--fill-color);\n",
              "    animation:\n",
              "      spin 1s steps(1) infinite;\n",
              "  }\n",
              "\n",
              "  @keyframes spin {\n",
              "    0% {\n",
              "      border-color: transparent;\n",
              "      border-bottom-color: var(--fill-color);\n",
              "      border-left-color: var(--fill-color);\n",
              "    }\n",
              "    20% {\n",
              "      border-color: transparent;\n",
              "      border-left-color: var(--fill-color);\n",
              "      border-top-color: var(--fill-color);\n",
              "    }\n",
              "    30% {\n",
              "      border-color: transparent;\n",
              "      border-left-color: var(--fill-color);\n",
              "      border-top-color: var(--fill-color);\n",
              "      border-right-color: var(--fill-color);\n",
              "    }\n",
              "    40% {\n",
              "      border-color: transparent;\n",
              "      border-right-color: var(--fill-color);\n",
              "      border-top-color: var(--fill-color);\n",
              "    }\n",
              "    60% {\n",
              "      border-color: transparent;\n",
              "      border-right-color: var(--fill-color);\n",
              "    }\n",
              "    80% {\n",
              "      border-color: transparent;\n",
              "      border-right-color: var(--fill-color);\n",
              "      border-bottom-color: var(--fill-color);\n",
              "    }\n",
              "    90% {\n",
              "      border-color: transparent;\n",
              "      border-bottom-color: var(--fill-color);\n",
              "    }\n",
              "  }\n",
              "</style>\n",
              "\n",
              "      <script>\n",
              "        async function quickchart(key) {\n",
              "          const quickchartButtonEl =\n",
              "            document.querySelector('#' + key + ' button');\n",
              "          quickchartButtonEl.disabled = true;  // To prevent multiple clicks.\n",
              "          quickchartButtonEl.classList.add('colab-df-spinner');\n",
              "          try {\n",
              "            const charts = await google.colab.kernel.invokeFunction(\n",
              "                'suggestCharts', [key], {});\n",
              "          } catch (error) {\n",
              "            console.error('Error during call to suggestCharts:', error);\n",
              "          }\n",
              "          quickchartButtonEl.classList.remove('colab-df-spinner');\n",
              "          quickchartButtonEl.classList.add('colab-df-quickchart-complete');\n",
              "        }\n",
              "        (() => {\n",
              "          let quickchartButtonEl =\n",
              "            document.querySelector('#df-0140bceb-b1e2-4331-9d55-24427842d450 button');\n",
              "          quickchartButtonEl.style.display =\n",
              "            google.colab.kernel.accessAllowed ? 'block' : 'none';\n",
              "        })();\n",
              "      </script>\n",
              "    </div>\n",
              "\n",
              "  <div id=\"id_5c7ae46c-b7e6-405a-ba2f-551046cccfa4\">\n",
              "    <style>\n",
              "      .colab-df-generate {\n",
              "        background-color: #E8F0FE;\n",
              "        border: none;\n",
              "        border-radius: 50%;\n",
              "        cursor: pointer;\n",
              "        display: none;\n",
              "        fill: #1967D2;\n",
              "        height: 32px;\n",
              "        padding: 0 0 0 0;\n",
              "        width: 32px;\n",
              "      }\n",
              "\n",
              "      .colab-df-generate:hover {\n",
              "        background-color: #E2EBFA;\n",
              "        box-shadow: 0px 1px 2px rgba(60, 64, 67, 0.3), 0px 1px 3px 1px rgba(60, 64, 67, 0.15);\n",
              "        fill: #174EA6;\n",
              "      }\n",
              "\n",
              "      [theme=dark] .colab-df-generate {\n",
              "        background-color: #3B4455;\n",
              "        fill: #D2E3FC;\n",
              "      }\n",
              "\n",
              "      [theme=dark] .colab-df-generate:hover {\n",
              "        background-color: #434B5C;\n",
              "        box-shadow: 0px 1px 3px 1px rgba(0, 0, 0, 0.15);\n",
              "        filter: drop-shadow(0px 1px 2px rgba(0, 0, 0, 0.3));\n",
              "        fill: #FFFFFF;\n",
              "      }\n",
              "    </style>\n",
              "    <button class=\"colab-df-generate\" onclick=\"generateWithVariable('df_env')\"\n",
              "            title=\"Generate code using this dataframe.\"\n",
              "            style=\"display:none;\">\n",
              "\n",
              "  <svg xmlns=\"http://www.w3.org/2000/svg\" height=\"24px\"viewBox=\"0 0 24 24\"\n",
              "       width=\"24px\">\n",
              "    <path d=\"M7,19H8.4L18.45,9,17,7.55,7,17.6ZM5,21V16.75L18.45,3.32a2,2,0,0,1,2.83,0l1.4,1.43a1.91,1.91,0,0,1,.58,1.4,1.91,1.91,0,0,1-.58,1.4L9.25,21ZM18.45,9,17,7.55Zm-12,3A5.31,5.31,0,0,0,4.9,8.1,5.31,5.31,0,0,0,1,6.5,5.31,5.31,0,0,0,4.9,4.9,5.31,5.31,0,0,0,6.5,1,5.31,5.31,0,0,0,8.1,4.9,5.31,5.31,0,0,0,12,6.5,5.46,5.46,0,0,0,6.5,12Z\"/>\n",
              "  </svg>\n",
              "    </button>\n",
              "    <script>\n",
              "      (() => {\n",
              "      const buttonEl =\n",
              "        document.querySelector('#id_5c7ae46c-b7e6-405a-ba2f-551046cccfa4 button.colab-df-generate');\n",
              "      buttonEl.style.display =\n",
              "        google.colab.kernel.accessAllowed ? 'block' : 'none';\n",
              "\n",
              "      buttonEl.onclick = () => {\n",
              "        google.colab.notebook.generateWithVariable('df_env');\n",
              "      }\n",
              "      })();\n",
              "    </script>\n",
              "  </div>\n",
              "\n",
              "    </div>\n",
              "  </div>\n"
            ],
            "application/vnd.google.colaboratory.intrinsic+json": {
              "type": "dataframe",
              "variable_name": "df_env",
              "summary": "{\n  \"name\": \"df_env\",\n  \"rows\": 5,\n  \"fields\": [\n    {\n      \"column\": \"Col_0\",\n      \"properties\": {\n        \"dtype\": \"number\",\n        \"std\": 4.47213595499958,\n        \"min\": 0.0,\n        \"max\": 10.0,\n        \"num_unique_values\": 2,\n        \"samples\": [\n          10.0,\n          0.0\n        ],\n        \"semantic_type\": \"\",\n        \"description\": \"\"\n      }\n    },\n    {\n      \"column\": \"Col_1\",\n      \"properties\": {\n        \"dtype\": \"number\",\n        \"std\": 0.5477225575051662,\n        \"min\": -1.0,\n        \"max\": 0.0,\n        \"num_unique_values\": 2,\n        \"samples\": [\n          -1.0,\n          0.0\n        ],\n        \"semantic_type\": \"\",\n        \"description\": \"\"\n      }\n    },\n    {\n      \"column\": \"Col_2\",\n      \"properties\": {\n        \"dtype\": \"number\",\n        \"std\": 0.0,\n        \"min\": 0.0,\n        \"max\": 0.0,\n        \"num_unique_values\": 1,\n        \"samples\": [\n          0.0\n        ],\n        \"semantic_type\": \"\",\n        \"description\": \"\"\n      }\n    },\n    {\n      \"column\": \"Col_3\",\n      \"properties\": {\n        \"dtype\": \"number\",\n        \"std\": 0.0,\n        \"min\": 0.0,\n        \"max\": 0.0,\n        \"num_unique_values\": 1,\n        \"samples\": [\n          0.0\n        ],\n        \"semantic_type\": \"\",\n        \"description\": \"\"\n      }\n    },\n    {\n      \"column\": \"Col_4\",\n      \"properties\": {\n        \"dtype\": \"number\",\n        \"std\": 0.0,\n        \"min\": 0.0,\n        \"max\": 0.0,\n        \"num_unique_values\": 1,\n        \"samples\": [\n          0.0\n        ],\n        \"semantic_type\": \"\",\n        \"description\": \"\"\n      }\n    }\n  ]\n}"
            }
          },
          "metadata": {},
          "execution_count": 2
        }
      ]
    },
    {
      "cell_type": "markdown",
      "source": [
        "#Observation:\n",
        "- grid_size = 5, Defines the environment as a 5x5 grid.\n",
        "- env = np.zeros((grid_size, grid_size)).\n",
        "- Initializes a 5x5 grid with all values set to 0\n",
        "- Sets the random seed so results are reproducible, The same random values will be generated every time you run it."
      ],
      "metadata": {
        "id": "QYvuQpI889mv"
      }
    },
    {
      "cell_type": "markdown",
      "source": [
        "#Final Observation:\n",
        "- The goal is placed at Row 3, Column 0 (value = 10.0).\n",
        "- There are two obstacles:\n",
        "  - One at Row 2, Column 1\n",
        "  - Another at Row 4, Column 1\n",
        "- All other positions are safe empty spaces (0.0) that the agent can move through freely.\n",
        "- The agent should avoid Column 1"
      ],
      "metadata": {
        "id": "XpvgJETv9xp_"
      }
    },
    {
      "cell_type": "markdown",
      "source": [
        "###**EDA**"
      ],
      "metadata": {
        "id": "SlLIDUFS-AB4"
      }
    },
    {
      "cell_type": "code",
      "source": [
        "print(\"Environment Summary:\")\n",
        "print(df_env.describe())\n",
        "\n",
        "sns.heatmap(df_env, annot=True, cmap=\"coolwarm\", cbar=False)\n",
        "plt.title(\"Grid Environment Heatmap\")\n",
        "plt.show()"
      ],
      "metadata": {
        "colab": {
          "base_uri": "https://localhost:8080/",
          "height": 626
        },
        "id": "kE7jHKEH81t5",
        "outputId": "a3b4de6c-9d50-459c-d562-16dccbdc627f"
      },
      "execution_count": 3,
      "outputs": [
        {
          "output_type": "stream",
          "name": "stdout",
          "text": [
            "Environment Summary:\n",
            "           Col_0     Col_1  Col_2  Col_3  Col_4\n",
            "count   5.000000  5.000000    5.0    5.0    5.0\n",
            "mean    2.000000 -0.400000    0.0    0.0    0.0\n",
            "std     4.472136  0.547723    0.0    0.0    0.0\n",
            "min     0.000000 -1.000000    0.0    0.0    0.0\n",
            "25%     0.000000 -1.000000    0.0    0.0    0.0\n",
            "50%     0.000000  0.000000    0.0    0.0    0.0\n",
            "75%     0.000000  0.000000    0.0    0.0    0.0\n",
            "max    10.000000  0.000000    0.0    0.0    0.0\n"
          ]
        },
        {
          "output_type": "display_data",
          "data": {
            "text/plain": [
              "<Figure size 640x480 with 1 Axes>"
            ],
            "image/png": "[encoded data removed]"
          },
          "metadata": {}
        }
      ]
    },
    {
      "cell_type": "markdown",
      "source": [
        "#Observation:\n",
        "- The goal is at Row 3, Column 0, this is where the agent gets the highest reward.\n",
        "- There are two obstacles:\n",
        "  - One at Row 2, Column 1\n",
        "  - One at Row 4, Column 1\n",
        "  - The agent should not step on these.\n",
        "- All other places have 0, so they are safe to move.\n",
        "- The agent should find a smart path to reach the goal while avoiding the obstacles."
      ],
      "metadata": {
        "id": "wA6zby31-Vip"
      }
    },
    {
      "cell_type": "markdown",
      "source": [
        "###**DEFINE Q-LEARNING COMPONENTS**"
      ],
      "metadata": {
        "id": "KuVZj69t-mkF"
      }
    },
    {
      "cell_type": "code",
      "source": [
        "# Define actions\n",
        "actions = ['up', 'down', 'left', 'right']\n",
        "\n",
        "# Initialize Q-Table\n",
        "q_table = np.zeros((grid_size, grid_size, len(actions)))\n",
        "\n",
        "alpha = 0.1\n",
        "gamma = 0.9\n",
        "epsilon = 0.8\n",
        "episodes = 1000"
      ],
      "metadata": {
        "id": "OBvLBcpg-Dwb"
      },
      "execution_count": 4,
      "outputs": []
    },
    {
      "cell_type": "markdown",
      "source": [
        "###**Q-LEARNING ALGORITHM**"
      ],
      "metadata": {
        "id": "Vq8ipPMF-yz3"
      }
    },
    {
      "cell_type": "code",
      "source": [
        "# Get reward from environment\n",
        "def get_reward(pos):\n",
        "    x, y = pos\n",
        "    if x < 0 or x >= grid_size or y < 0 or y >= grid_size:\n",
        "        return -5  # Penalty for hitting wall\n",
        "    return env[x][y]\n",
        "\n",
        "# Get next position based on action\n",
        "def next_position(pos, action):\n",
        "    x, y = pos\n",
        "    if action == 'up':\n",
        "        x -= 1\n",
        "    elif action == 'down':\n",
        "        x += 1\n",
        "    elif action == 'left':\n",
        "        y -= 1\n",
        "    elif action == 'right':\n",
        "        y += 1\n",
        "    return max(0, min(x, grid_size - 1)), max(0, min(y, grid_size - 1))\n",
        "\n",
        "# Training\n",
        "for ep in range(episodes):\n",
        "    pos = (random.randint(0, grid_size - 1), random.randint(0, grid_size - 1))\n",
        "    while env[pos] != 10:\n",
        "        if random.uniform(0, 1) < epsilon:\n",
        "            action = random.choice(actions)\n",
        "        else:\n",
        "            action = actions[np.argmax(q_table[pos[0], pos[1]])]\n",
        "\n",
        "        new_pos = next_position(pos, action)\n",
        "        reward = get_reward(new_pos)\n",
        "        old_q = q_table[pos[0], pos[1], actions.index(action)]\n",
        "        next_max = np.max(q_table[new_pos[0], new_pos[1]])\n",
        "\n",
        "        # Q-Learning update\n",
        "        q_table[pos[0], pos[1], actions.index(action)] = old_q + alpha * (reward + gamma * next_max - old_q)\n",
        "\n",
        "        pos = new_pos"
      ],
      "metadata": {
        "id": "bNvcGvPX-w_G"
      },
      "execution_count": 5,
      "outputs": []
    },
    {
      "cell_type": "markdown",
      "source": [
        "###**DEMO : SIMULATE AGENT MOVEMENT**"
      ],
      "metadata": {
        "id": "QZa7hpLJ-_P6"
      }
    },
    {
      "cell_type": "code",
      "source": [
        "def simulate_agent(start):\n",
        "    pos = start\n",
        "    path = [pos]\n",
        "    for _ in range(20):\n",
        "        action = actions[np.argmax(q_table[pos[0], pos[1]])]\n",
        "        pos = next_position(pos, action)\n",
        "        path.append(pos)\n",
        "        if env[pos] == 10:\n",
        "            break\n",
        "    return path\n",
        "\n",
        "start_point = (0, 0)\n",
        "path_taken = simulate_agent(start_point)\n",
        "\n",
        "print(\"Path taken by agent from\", start_point, \"to goal:\", path_taken)"
      ],
      "metadata": {
        "colab": {
          "base_uri": "https://localhost:8080/"
        },
        "id": "lWjh6z7z-5QK",
        "outputId": "82221a37-932c-480c-944f-cc67e9ce3133"
      },
      "execution_count": 6,
      "outputs": [
        {
          "output_type": "stream",
          "name": "stdout",
          "text": [
            "Path taken by agent from (0, 0) to goal: [(0, 0), (1, 0), (2, 0), (3, 0)]\n"
          ]
        }
      ]
    },
    {
      "cell_type": "code",
      "source": [
        "# Plotting agent path\n",
        "path_map = np.zeros((grid_size, grid_size))\n",
        "for step in path_taken:\n",
        "    path_map[step] += 1\n",
        "\n",
        "sns.heatmap(path_map, annot=True, cmap=\"YlGnBu\")\n",
        "plt.title(\"Agent Path Heatmap\")\n",
        "plt.show()"
      ],
      "metadata": {
        "colab": {
          "base_uri": "https://localhost:8080/",
          "height": 452
        },
        "id": "4fHt4_7o_IQ0",
        "outputId": "aadd4afe-b79d-45be-bec0-0989ce5ef866"
      },
      "execution_count": 7,
      "outputs": [
        {
          "output_type": "display_data",
          "data": {
            "text/plain": [
              "<Figure size 640x480 with 2 Axes>"
            ],
            "image/png": "[encoded data removed]"
          },
          "metadata": {}
        }
      ]
    },
    {
      "cell_type": "markdown",
      "source": [
        "#Observation:\n",
        "- he agent moved straight down from Row 0 to Row 3 in Column 0.\n",
        "- The value 1 means the agent visited that cell.\n",
        "- The agent reached the goal at Row 3, Column 0 — the goal cell.\n",
        "- The agent did not visit any other columns, which means it learned a short and direct path.\n",
        "- This path avoided all obstacles and reached the goal safely."
      ],
      "metadata": {
        "id": "gdraC2wT_Uu1"
      }
    },
    {
      "cell_type": "markdown",
      "source": [
        "# Agentic AI: Q-Learning Based Grid World Navigator\n",
        "\n",
        "## Problem Statement\n",
        "\n",
        "Design and develop a simple **agentic AI system** that can **navigate a grid** to reach a goal while **learning from the environment**.  \n",
        "The agent should make decisions based on rewards and penalties, simulating autonomy by learning from experience using **Reinforcement Learning** (Q-Learning).\n",
        "\n",
        "---\n",
        "\n",
        "##  Approach\n",
        "\n",
        "1. **Environment Design**:\n",
        "   - A custom **5x5 grid world** was created using NumPy and visualized with Seaborn.\n",
        "   - The grid includes:\n",
        "     - Empty spaces (`0`)  \n",
        "     - Obstacles (`-1`)  \n",
        "     - A goal (`10`)\n",
        "\n",
        "2. **Learning Algorithm**:\n",
        "   - Implemented **Q-Learning**, a model-free reinforcement learning algorithm.\n",
        "   - The agent learns **action-value pairs** to decide the best path.\n",
        "\n",
        "3. **Reward System**:\n",
        "   - Goal: `+10`\n",
        "   - Obstacle: `-1`\n",
        "   - Out-of-bound or wall hit: `-5`\n",
        "   - Empty cell: `0`\n",
        "\n",
        "4. **Agent Behavior**:\n",
        "   - The agent starts from a random position and uses exploration/exploitation to learn.\n",
        "   - Over multiple episodes, it learns to find the **shortest and safest path** to the goal.\n",
        "\n",
        "---\n",
        "\n",
        "## Technology Stack\n",
        "\n",
        "- **Language**: Python 3\n",
        "- **Libraries**:  \n",
        "  - `numpy`  \n",
        "  - `pandas`  \n",
        "  - `matplotlib`  \n",
        "  - `seaborn`\n",
        "\n",
        "- **Platform**: Google Colab (recommended for running)\n",
        "\n",
        "---\n",
        "\n",
        "## How to Run the Code\n",
        "\n",
        "1. Open the notebook in Google Colab or Jupyter.\n",
        "2. Run each cell step-by-step:\n",
        "   - Environment Setup\n",
        "   - Grid Visualization\n",
        "   - Q-Learning Logic\n",
        "   - Simulation of Agent Movement\n",
        "3. Final heatmap will show the **agent’s path** to the goal.\n",
        "4. Modify the grid or episodes to test different strategies.\n",
        "\n",
        "---\n",
        "\n",
        "## Demo Output\n",
        "\n",
        "- **Grid Heatmap**: Shows where goal and obstacles are placed.\n",
        "- **Agent Path Heatmap**: Shows how the trained agent navigates through the grid.\n",
        "\n",
        "---\n",
        "\n",
        "## Deliverables\n",
        "\n",
        "- Clean, well-commented code\n",
        "- Trained Q-learning model\n",
        "- Heatmap-based visual demo\n",
        "- This README file\n",
        "\n",
        "---\n",
        "\n",
        "## Learning Outcomes\n",
        "\n",
        "- Learned how to build a **grid world simulation**.\n",
        "- Understood and implemented **Q-learning**.\n",
        "- Developed an **AI agent** capable of autonomous decision-making."
      ],
      "metadata": {
        "id": "9VYfHpr_AAym"
      }
    },
    {
      "cell_type": "code",
      "source": [],
      "metadata": {
        "id": "0zXtif_nAPf1"
      },
      "execution_count": null,
      "outputs": []
    }
  ]
}